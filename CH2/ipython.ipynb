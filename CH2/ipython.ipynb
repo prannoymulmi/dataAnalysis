{
 "cells": [
  {
   "cell_type": "code",
   "execution_count": null,
   "metadata": {},
   "outputs": [],
   "source": [
    "from pandas import DataFrame, Series\n",
    "import pandas as pd\n",
    "from matplotlib import pyplot\n",
    "import json\n",
    "\n",
    "path = 'D:\\python\\pydata-book\\ch02\\usagov_bitly_data2012-03-16-1331923249.txt';\n",
    "\n",
    "records = [json.loads(line) for line in open(path)];\n",
    "timeZones = [rec['tz']for rec in records if 'tz' in rec];\n",
    "\n",
    "frame = DataFrame(records);\n",
    "\n",
    "\n",
    "clean_tz = frame['tz'].fillna('Missing');\n",
    "clean_tz [clean_tz == ''] = 'Empty';\n",
    "counts = clean_tz.value_counts();\n",
    "#print frame['tz']\n",
    "print counts[:10];\n",
    "\n",
    "counts[:10].plot('barh');"
   ]
  }
 ],
 "metadata": {},
 "nbformat": 4,
 "nbformat_minor": 0
}